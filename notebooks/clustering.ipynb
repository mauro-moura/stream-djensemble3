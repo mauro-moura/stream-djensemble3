{
 "cells": [
  {
   "cell_type": "code",
   "execution_count": 2,
   "metadata": {},
   "outputs": [],
   "source": [
    "import os\n",
    "import sys\n",
    "import copy\n",
    "\n",
    "import numpy as np\n",
    "import pandas as pd\n",
    "import netCDF4 as nc\n",
    "\n",
    "import warnings\n",
    "warnings.filterwarnings('ignore')\n",
    "\n",
    "BASE_PATH = '..'\n",
    "\n",
    "sys.path.append(BASE_PATH)\n",
    "os.chdir(BASE_PATH)"
   ]
  },
  {
   "cell_type": "code",
   "execution_count": 3,
   "metadata": {},
   "outputs": [
    {
     "name": "stderr",
     "output_type": "stream",
     "text": [
      "2024-10-16 15:13:31,743 - h5py._conv - DEBUG - Creating converter from 7 to 5\n",
      "2024-10-16 15:13:31,743 - h5py._conv - DEBUG - Creating converter from 5 to 7\n",
      "2024-10-16 15:13:31,744 - h5py._conv - DEBUG - Creating converter from 7 to 5\n",
      "2024-10-16 15:13:31,744 - h5py._conv - DEBUG - Creating converter from 5 to 7\n"
     ]
    },
    {
     "name": "stdout",
     "output_type": "stream",
     "text": [
      "3.9.19 (main, May  6 2024, 19:43:03) \n",
      "[GCC 11.2.0]\n"
     ]
    }
   ],
   "source": [
    "from core.clustering.static_clustering import StaticClustering"
   ]
  },
  {
   "cell_type": "code",
   "execution_count": 61,
   "metadata": {},
   "outputs": [],
   "source": [
    "def verify_cluster_ok(image, i, j, cluster, size=7, min_purity=0.9):\n",
    "    count = 0\n",
    "    # Count how many points given the i, j are correct in the cluster\n",
    "    for ii in range(i, i+size):\n",
    "        for jj in range(j, j+size):\n",
    "            if image[ii, jj] == cluster:\n",
    "                count += 1\n",
    "    \n",
    "    purity = count / (size**2)\n",
    "    return purity >= min_purity, purity\n",
    "\n",
    "def find_bbox_for_cluster(image, cluster, size=7, purity=0.9):\n",
    "    max_purity = 0\n",
    "    purity = 0\n",
    "    cluster_ok = False\n",
    "    point = None\n",
    "\n",
    "    for i in range(image.shape[0] - size):\n",
    "        for j in range(image.shape[1] - size):\n",
    "            if image[i, j] == cluster:\n",
    "                cluster_ok, purity = verify_cluster_ok(image, i, j, cluster, size=size, min_purity=purity)\n",
    "\n",
    "                if cluster_ok and purity > max_purity:\n",
    "                    max_purity = purity\n",
    "                    point = (j, i)\n",
    "                        \n",
    "            if purity == 1: break\n",
    "        if purity == 1: break\n",
    "\n",
    "    if point is None:\n",
    "        print(f\"Point for cluster {cluster} with putiry >= {purity} not found\")\n",
    "        return None, None\n",
    "    \n",
    "    return point, (point[0] + size, point[1] + size)\n",
    "\n",
    "def find_points_for_clusters(image, size=7, purity=0.9):\n",
    "    clusters = np.unique(image)\n",
    "    print(f\"Found {len(clusters)} clusters, with values {clusters}\")\n",
    "    points = []\n",
    "    for cluster in clusters:\n",
    "        point0, point1 = find_bbox_for_cluster(image, cluster, size=size, purity=purity)\n",
    "\n",
    "        print(f\"Cluster {cluster} found at {point0} and {point1}\")\n",
    "        if point0 is not None:\n",
    "            points.append((point0, point1))    \n",
    "    return points"
   ]
  },
  {
   "cell_type": "code",
   "execution_count": 4,
   "metadata": {},
   "outputs": [
    {
     "name": "stdout",
     "output_type": "stream",
     "text": [
      "dict_keys(['velocity', 'time', 'lat', 'lon'])\n"
     ]
    }
   ],
   "source": [
    "base_path = './input/data/'\n",
    "input_file = 'data_grid.nc'\n",
    "data = nc.Dataset(os.path.join(base_path, input_file))\n",
    "\n",
    "print(data.variables.keys())"
   ]
  },
  {
   "cell_type": "code",
   "execution_count": 5,
   "metadata": {},
   "outputs": [],
   "source": [
    "data = np.array(data['velocity'])"
   ]
  },
  {
   "cell_type": "code",
   "execution_count": 57,
   "metadata": {},
   "outputs": [
    {
     "name": "stderr",
     "output_type": "stream",
     "text": [
      "2024-10-16 16:07:11,618 - core.clustering.parcorr - DEBUG - Vector sketches calculated\n"
     ]
    }
   ],
   "source": [
    "clustering = StaticClustering(data, 'parcorr4')\n",
    "clustering.run()\n",
    "clustering.save_clustering_image('./notebooks/', f\"cluster_ogasawara\")"
   ]
  },
  {
   "cell_type": "code",
   "execution_count": 62,
   "metadata": {},
   "outputs": [
    {
     "name": "stdout",
     "output_type": "stream",
     "text": [
      "Found 4 clusters, with values [0 1 2 3]\n",
      "Cluster 0 found at (0, 0) and (10, 10)\n",
      "Cluster 1 found at (24, 18) and (34, 28)\n",
      "Cluster 2 found at (0, 17) and (10, 27)\n",
      "Cluster 3 found at (41, 0) and (51, 10)\n"
     ]
    },
    {
     "data": {
      "image/png": "[encoded data removed]",
      "text/plain": [
       "<Figure size 1000x500 with 2 Axes>"
      ]
     },
     "metadata": {},
     "output_type": "display_data"
    }
   ],
   "source": [
    "import matplotlib.pyplot as plt\n",
    "warnings.filterwarnings('ignore')\n",
    "\n",
    "def build_box(image, point0, point1):\n",
    "    color = [5]\n",
    "    x = 1\n",
    "    y = 0\n",
    "    image[point0[x]:point1[x]+1, point0[y]] = color\n",
    "    image[point0[x]:point1[x]+1, point1[y]] = color\n",
    "    image[point0[x], point0[y]:point1[y]+1] = color\n",
    "    image[point1[x], point0[y]:point1[y]+1] = color\n",
    "\n",
    "    return image\n",
    "\n",
    "plt.figure(figsize=(10, 5))\n",
    "\n",
    "plt.subplot(1, 2, 1)\n",
    "t = 0\n",
    "plt.title(f\"Data at time {t}\")\n",
    "plt.imshow(data[t, :, :], cmap='viridis')\n",
    "\n",
    "plt.subplot(1, 2, 2)\n",
    "plt.title(\"Static Clustering\")\n",
    "\n",
    "image = copy.deepcopy(clustering.clustering_matrix)\n",
    "\n",
    "# image = build_box(image, (0, 0), (7, 7)) # C1\n",
    "# image = build_box(image, (20, 0), (27, 7)) # C2\n",
    "# image = build_box(image, (35, 0), (42, 7)) # C3\n",
    "# image = build_box(image, (0, 20), (7, 27)) # C4\n",
    "# image = build_box(image, (35, 25), (42, 32)) # C5\n",
    "\n",
    "points = find_points_for_clusters(image, size=10)\n",
    "\n",
    "for point in points:\n",
    "    image = build_box(image, point[0], point[1])\n",
    "\n",
    "plt.imshow(image, cmap='viridis')\n",
    "\n",
    "plt.show()"
   ]
  },
  {
   "cell_type": "code",
   "execution_count": null,
   "metadata": {},
   "outputs": [],
   "source": []
  }
 ],
 "metadata": {
  "kernelspec": {
   "display_name": "djensemble",
   "language": "python",
   "name": "python3"
  },
  "language_info": {
   "codemirror_mode": {
    "name": "ipython",
    "version": 3
   },
   "file_extension": ".py",
   "mimetype": "text/x-python",
   "name": "python",
   "nbconvert_exporter": "python",
   "pygments_lexer": "ipython3",
   "version": "3.9.19"
  }
 },
 "nbformat": 4,
 "nbformat_minor": 2
}
