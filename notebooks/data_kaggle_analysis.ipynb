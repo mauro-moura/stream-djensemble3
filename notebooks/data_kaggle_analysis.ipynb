{
 "cells": [
  {
   "cell_type": "code",
   "execution_count": 1,
   "metadata": {},
   "outputs": [],
   "source": [
    "import os\n",
    "\n",
    "import numpy as np\n",
    "import pandas as pd"
   ]
  },
  {
   "cell_type": "code",
   "execution_count": 2,
   "metadata": {},
   "outputs": [],
   "source": [
    "# Create logger\n",
    "import logging\n",
    "\n",
    "logging.basicConfig(filename='missing_dates.log',\n",
    "                    level=logging.INFO,\n",
    "                    format='%(asctime)s - %(levelname)s - %(message)s')\n",
    "logger = logging.getLogger(__name__) \n",
    "\n",
    "# logger.setLevel(logging.CRITICAL)\n"
   ]
  },
  {
   "cell_type": "code",
   "execution_count": 3,
   "metadata": {},
   "outputs": [],
   "source": [
    "base_path = '../input/data/'\n",
    "input_file = 'weatherAUS.csv'\n",
    "df = pd.read_csv(os.path.join(base_path, input_file))\n",
    "\n",
    "date_feature = 'Date'\n",
    "loc_feature = 'Location'\n",
    "\n",
    "df[date_feature] = pd.to_datetime(df[date_feature])\n",
    "df.sort_values([date_feature], inplace=True)"
   ]
  },
  {
   "cell_type": "code",
   "execution_count": 4,
   "metadata": {},
   "outputs": [
    {
     "name": "stdout",
     "output_type": "stream",
     "text": [
      "            Location       Date\n",
      "0           Adelaide 2008-07-01\n",
      "1             Albany 2008-12-01\n",
      "2             Albury 2008-12-01\n",
      "3       AliceSprings 2008-12-01\n",
      "4      BadgerysCreek 2009-01-01\n",
      "5           Ballarat 2008-12-01\n",
      "6            Bendigo 2008-12-01\n",
      "7           Brisbane 2008-07-01\n",
      "8             Cairns 2008-12-01\n",
      "9           Canberra 2007-11-01\n",
      "10             Cobar 2009-01-01\n",
      "11      CoffsHarbour 2009-01-01\n",
      "12          Dartmoor 2009-01-01\n",
      "13            Darwin 2008-07-01\n",
      "14         GoldCoast 2008-12-01\n",
      "15            Hobart 2008-07-01\n",
      "16         Katherine 2013-03-01\n",
      "17        Launceston 2008-12-01\n",
      "18         Melbourne 2008-07-01\n",
      "19  MelbourneAirport 2009-01-01\n",
      "20           Mildura 2009-01-01\n",
      "21             Moree 2009-01-01\n",
      "22      MountGambier 2008-12-01\n",
      "23       MountGinini 2008-12-01\n",
      "24         Newcastle 2008-12-01\n",
      "25              Nhil 2013-03-01\n",
      "26         NorahHead 2009-01-01\n",
      "27     NorfolkIsland 2009-01-01\n",
      "28         Nuriootpa 2009-01-01\n",
      "29        PearceRAAF 2009-01-01\n",
      "30           Penrith 2008-12-01\n",
      "31             Perth 2008-07-01\n",
      "32      PerthAirport 2009-01-01\n",
      "33          Portland 2009-01-01\n",
      "34          Richmond 2009-01-01\n",
      "35              Sale 2009-01-01\n",
      "36        SalmonGums 2009-01-01\n",
      "37            Sydney 2008-02-01\n",
      "38     SydneyAirport 2009-01-01\n",
      "39        Townsville 2008-12-01\n",
      "40       Tuggeranong 2008-12-01\n",
      "41             Uluru 2013-03-01\n",
      "42        WaggaWagga 2009-01-01\n",
      "43           Walpole 2009-01-01\n",
      "44          Watsonia 2009-01-01\n",
      "45       Williamtown 2009-01-01\n",
      "46       Witchcliffe 2009-01-01\n",
      "47        Wollongong 2008-12-01\n",
      "48           Woomera 2009-01-01\n"
     ]
    }
   ],
   "source": [
    "# Find first date that a location appears\n",
    "first_date = df.groupby(loc_feature)[date_feature].min().reset_index()\n",
    "print(first_date)"
   ]
  },
  {
   "cell_type": "code",
   "execution_count": 5,
   "metadata": {},
   "outputs": [],
   "source": [
    "def find_year_full_data(df, loc_feature='Location', date_feature='Date', unit='D', show_log=False):\n",
    "    stations = df[loc_feature].unique()\n",
    "    years = df[date_feature].dt.year.unique()\n",
    "    for year in years:\n",
    "        start_date = pd.Timestamp(f'{year}-01-01')\n",
    "        end_date = pd.Timestamp(f'{year}-12-31')\n",
    "        full_date_range = pd.date_range(start=start_date, end=end_date, freq=unit)\n",
    "\n",
    "        station_with_missing_data = []\n",
    "        for station in stations:\n",
    "            station_data = df[(df[loc_feature] == station) & (df[date_feature].dt.year == year)]\n",
    "            actual_dates = station_data[date_feature].dt.date.unique()\n",
    "\n",
    "            missing_dates = set(full_date_range.date) - set(actual_dates)\n",
    "\n",
    "            \n",
    "            if len(missing_dates) == 0:\n",
    "                if show_log: print(f\"All days of the year {year} are present for station {station}.\")\n",
    "                logger.error(f\"All days of the year {year} are present for station {station}.\")\n",
    "            else:\n",
    "                station_with_missing_data.append((station))\n",
    "                logger.error(f\"{len(missing_dates)} days are missing for station {station} in the year {year}.\")\n",
    "                if show_log: print(f\"{len(missing_dates)} days are missing for station {station} in the year {year}.\")\n",
    "                # logger.error(f\"The following days are missing :\")\n",
    "                # for date in sorted(missing_dates):\n",
    "                #     if show_log: print(date)\n",
    "                #     logger.error(date)\n",
    "        \n",
    "        if station_with_missing_data:\n",
    "            print(f\"Year {year} has missing data for the following stations: {station_with_missing_data}\")\n",
    "        else:\n",
    "            print(f\"Year {year} has complete data for all stations.\")\n",
    "\n",
    "def select_complete_year(df, year):\n",
    "    df['year'] = df[date_feature].dt.year.astype(str)\n",
    "    df_filtered = df[df['year'] == year]\n",
    "\n",
    "    complete_data = df_filtered.groupby(df_filtered[date_feature].dt.date).filter(\n",
    "        lambda x: x[loc_feature].nunique() == df_filtered[loc_feature].nunique()\n",
    "    )\n",
    "\n",
    "    return complete_data"
   ]
  },
  {
   "cell_type": "code",
   "execution_count": 6,
   "metadata": {},
   "outputs": [
    {
     "name": "stdout",
     "output_type": "stream",
     "text": [
      "Year 2007 has missing data for the following stations: ['Canberra', 'Sydney', 'Adelaide', 'Hobart', 'Melbourne', 'Brisbane', 'Perth', 'Darwin', 'Albany', 'Newcastle', 'GoldCoast', 'AliceSprings', 'Albury', 'Cairns', 'MountGambier', 'Penrith', 'Ballarat', 'Bendigo', 'Wollongong', 'MountGinini', 'Townsville', 'Tuggeranong', 'Launceston', 'Moree', 'Walpole', 'BadgerysCreek', 'Williamtown', 'MelbourneAirport', 'PerthAirport', 'CoffsHarbour', 'Woomera', 'PearceRAAF', 'Nuriootpa', 'Cobar', 'Sale', 'SydneyAirport', 'WaggaWagga', 'Richmond', 'NorahHead', 'Mildura', 'NorfolkIsland', 'Witchcliffe', 'Dartmoor', 'Watsonia', 'Portland', 'SalmonGums', 'Uluru', 'Nhil', 'Katherine']\n",
      "Year 2008 has missing data for the following stations: ['Sydney', 'Adelaide', 'Hobart', 'Melbourne', 'Brisbane', 'Perth', 'Darwin', 'Albany', 'Newcastle', 'GoldCoast', 'AliceSprings', 'Albury', 'Cairns', 'MountGambier', 'Penrith', 'Ballarat', 'Bendigo', 'Wollongong', 'MountGinini', 'Townsville', 'Tuggeranong', 'Launceston', 'Moree', 'Walpole', 'BadgerysCreek', 'Williamtown', 'MelbourneAirport', 'PerthAirport', 'CoffsHarbour', 'Woomera', 'PearceRAAF', 'Nuriootpa', 'Cobar', 'Sale', 'SydneyAirport', 'WaggaWagga', 'Richmond', 'NorahHead', 'Mildura', 'NorfolkIsland', 'Witchcliffe', 'Dartmoor', 'Watsonia', 'Portland', 'SalmonGums', 'Uluru', 'Nhil', 'Katherine']\n",
      "Year 2009 has missing data for the following stations: ['Penrith', 'Uluru', 'Nhil', 'Katherine']\n",
      "Year 2010 has missing data for the following stations: ['SalmonGums', 'Uluru', 'Nhil', 'Katherine']\n",
      "Year 2011 has missing data for the following stations: ['Canberra', 'Sydney', 'Adelaide', 'Hobart', 'Melbourne', 'Brisbane', 'Perth', 'Darwin', 'Albany', 'Newcastle', 'GoldCoast', 'AliceSprings', 'Albury', 'Cairns', 'MountGambier', 'Penrith', 'Ballarat', 'Bendigo', 'Wollongong', 'MountGinini', 'Townsville', 'Tuggeranong', 'Launceston', 'Moree', 'Walpole', 'BadgerysCreek', 'Williamtown', 'MelbourneAirport', 'PerthAirport', 'CoffsHarbour', 'Woomera', 'PearceRAAF', 'Nuriootpa', 'Cobar', 'Sale', 'SydneyAirport', 'WaggaWagga', 'Richmond', 'NorahHead', 'Mildura', 'NorfolkIsland', 'Witchcliffe', 'Dartmoor', 'Watsonia', 'Portland', 'SalmonGums', 'Uluru', 'Nhil', 'Katherine']\n",
      "Year 2012 has missing data for the following stations: ['Canberra', 'Sydney', 'Adelaide', 'Hobart', 'Melbourne', 'Brisbane', 'Perth', 'Darwin', 'Albany', 'Newcastle', 'GoldCoast', 'AliceSprings', 'Albury', 'Cairns', 'MountGambier', 'Penrith', 'Ballarat', 'Bendigo', 'Wollongong', 'MountGinini', 'Townsville', 'Tuggeranong', 'Launceston', 'Moree', 'Walpole', 'BadgerysCreek', 'Williamtown', 'MelbourneAirport', 'PerthAirport', 'CoffsHarbour', 'Woomera', 'PearceRAAF', 'Nuriootpa', 'Cobar', 'Sale', 'SydneyAirport', 'WaggaWagga', 'Richmond', 'NorahHead', 'Mildura', 'NorfolkIsland', 'Witchcliffe', 'Dartmoor', 'Watsonia', 'Portland', 'SalmonGums', 'Uluru', 'Nhil', 'Katherine']\n",
      "Year 2013 has missing data for the following stations: ['Canberra', 'Sydney', 'Adelaide', 'Hobart', 'Melbourne', 'Brisbane', 'Perth', 'Darwin', 'Albany', 'Newcastle', 'GoldCoast', 'AliceSprings', 'Albury', 'Cairns', 'MountGambier', 'Penrith', 'Ballarat', 'Bendigo', 'Wollongong', 'MountGinini', 'Townsville', 'Tuggeranong', 'Launceston', 'Moree', 'Walpole', 'BadgerysCreek', 'Williamtown', 'MelbourneAirport', 'PerthAirport', 'CoffsHarbour', 'Woomera', 'PearceRAAF', 'Nuriootpa', 'Cobar', 'Sale', 'SydneyAirport', 'WaggaWagga', 'Richmond', 'NorahHead', 'Mildura', 'NorfolkIsland', 'Witchcliffe', 'Dartmoor', 'Watsonia', 'Portland', 'SalmonGums', 'Uluru', 'Nhil', 'Katherine']\n",
      "Year 2014 has complete data for all stations.\n",
      "Year 2015 has complete data for all stations.\n",
      "Year 2016 has complete data for all stations.\n",
      "Year 2017 has missing data for the following stations: ['Canberra', 'Sydney', 'Adelaide', 'Hobart', 'Melbourne', 'Brisbane', 'Perth', 'Darwin', 'Albany', 'Newcastle', 'GoldCoast', 'AliceSprings', 'Albury', 'Cairns', 'MountGambier', 'Penrith', 'Ballarat', 'Bendigo', 'Wollongong', 'MountGinini', 'Townsville', 'Tuggeranong', 'Launceston', 'Moree', 'Walpole', 'BadgerysCreek', 'Williamtown', 'MelbourneAirport', 'PerthAirport', 'CoffsHarbour', 'Woomera', 'PearceRAAF', 'Nuriootpa', 'Cobar', 'Sale', 'SydneyAirport', 'WaggaWagga', 'Richmond', 'NorahHead', 'Mildura', 'NorfolkIsland', 'Witchcliffe', 'Dartmoor', 'Watsonia', 'Portland', 'SalmonGums', 'Uluru', 'Nhil', 'Katherine']\n"
     ]
    }
   ],
   "source": [
    "find_year_full_data(df)"
   ]
  }
 ],
 "metadata": {
  "kernelspec": {
   "display_name": "djensemble",
   "language": "python",
   "name": "python3"
  },
  "language_info": {
   "codemirror_mode": {
    "name": "ipython",
    "version": 3
   },
   "file_extension": ".py",
   "mimetype": "text/x-python",
   "name": "python",
   "nbconvert_exporter": "python",
   "pygments_lexer": "ipython3",
   "version": "3.9.19"
  }
 },
 "nbformat": 4,
 "nbformat_minor": 2
}
