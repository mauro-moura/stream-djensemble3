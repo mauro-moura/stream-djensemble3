{
 "cells": [
  {
   "cell_type": "code",
   "execution_count": 14,
   "metadata": {},
   "outputs": [],
   "source": [
    "from datetime import datetime"
   ]
  },
  {
   "cell_type": "code",
   "execution_count": 1,
   "metadata": {},
   "outputs": [],
   "source": [
    "# Missing dates\n",
    "\n",
    "filename = 'output.txt'\n",
    "with open(filename, 'r') as f:\n",
    "    lines = f.readlines()"
   ]
  },
  {
   "cell_type": "code",
   "execution_count": 15,
   "metadata": {},
   "outputs": [
    {
     "name": "stdout",
     "output_type": "stream",
     "text": [
      "135 days not found: \n",
      "[datetime.datetime(2014, 5, 5, 0, 0), datetime.datetime(2014, 6, 15, 0, 0), datetime.datetime(2014, 7, 13, 0, 0), datetime.datetime(2014, 8, 27, 0, 0), datetime.datetime(2014, 8, 28, 0, 0), datetime.datetime(2014, 8, 29, 0, 0), datetime.datetime(2014, 8, 30, 0, 0), datetime.datetime(2014, 8, 31, 0, 0), datetime.datetime(2014, 9, 30, 0, 0), datetime.datetime(2014, 10, 26, 0, 0), datetime.datetime(2014, 10, 27, 0, 0), datetime.datetime(2014, 11, 13, 0, 0), datetime.datetime(2014, 11, 14, 0, 0), datetime.datetime(2014, 11, 15, 0, 0), datetime.datetime(2014, 11, 16, 0, 0), datetime.datetime(2014, 11, 17, 0, 0), datetime.datetime(2014, 11, 18, 0, 0), datetime.datetime(2014, 12, 31, 0, 0), datetime.datetime(2015, 1, 1, 0, 0), datetime.datetime(2015, 2, 19, 0, 0), datetime.datetime(2015, 4, 5, 0, 0), datetime.datetime(2015, 6, 13, 0, 0), datetime.datetime(2015, 6, 14, 0, 0), datetime.datetime(2015, 6, 28, 0, 0), datetime.datetime(2015, 7, 6, 0, 0), datetime.datetime(2015, 7, 7, 0, 0), datetime.datetime(2015, 12, 23, 0, 0), datetime.datetime(2015, 12, 24, 0, 0), datetime.datetime(2015, 12, 25, 0, 0), datetime.datetime(2015, 12, 26, 0, 0), datetime.datetime(2015, 12, 31, 0, 0), datetime.datetime(2016, 1, 1, 0, 0), datetime.datetime(2016, 1, 2, 0, 0), datetime.datetime(2016, 1, 3, 0, 0), datetime.datetime(2016, 3, 20, 0, 0), datetime.datetime(2016, 4, 2, 0, 0), datetime.datetime(2016, 4, 3, 0, 0), datetime.datetime(2016, 4, 17, 0, 0), datetime.datetime(2016, 5, 3, 0, 0), datetime.datetime(2016, 5, 4, 0, 0), datetime.datetime(2016, 5, 5, 0, 0), datetime.datetime(2016, 5, 6, 0, 0), datetime.datetime(2016, 5, 7, 0, 0), datetime.datetime(2016, 5, 8, 0, 0), datetime.datetime(2016, 5, 9, 0, 0), datetime.datetime(2016, 5, 10, 0, 0), datetime.datetime(2016, 5, 11, 0, 0), datetime.datetime(2016, 5, 12, 0, 0), datetime.datetime(2016, 5, 13, 0, 0), datetime.datetime(2016, 5, 14, 0, 0), datetime.datetime(2016, 5, 15, 0, 0), datetime.datetime(2016, 5, 16, 0, 0), datetime.datetime(2016, 5, 17, 0, 0), datetime.datetime(2016, 5, 18, 0, 0), datetime.datetime(2016, 5, 19, 0, 0), datetime.datetime(2016, 5, 22, 0, 0), datetime.datetime(2016, 6, 7, 0, 0), datetime.datetime(2016, 11, 10, 0, 0), datetime.datetime(2016, 11, 16, 0, 0), datetime.datetime(2016, 12, 5, 0, 0), datetime.datetime(2016, 12, 6, 0, 0), datetime.datetime(2016, 12, 14, 0, 0), datetime.datetime(2017, 1, 27, 0, 0), datetime.datetime(2017, 3, 18, 0, 0), datetime.datetime(2017, 3, 19, 0, 0), datetime.datetime(2017, 3, 25, 0, 0), datetime.datetime(2017, 3, 26, 0, 0), datetime.datetime(2017, 4, 15, 0, 0), datetime.datetime(2017, 4, 16, 0, 0), datetime.datetime(2017, 4, 17, 0, 0), datetime.datetime(2017, 4, 21, 0, 0), datetime.datetime(2017, 5, 1, 0, 0), datetime.datetime(2017, 8, 20, 0, 0), datetime.datetime(2017, 9, 3, 0, 0), datetime.datetime(2017, 9, 7, 0, 0), datetime.datetime(2017, 9, 8, 0, 0), datetime.datetime(2017, 9, 9, 0, 0), datetime.datetime(2017, 10, 8, 0, 0), datetime.datetime(2017, 10, 12, 0, 0), datetime.datetime(2017, 10, 13, 0, 0), datetime.datetime(2017, 10, 14, 0, 0), datetime.datetime(2017, 10, 15, 0, 0), datetime.datetime(2017, 11, 15, 0, 0), datetime.datetime(2018, 4, 5, 0, 0), datetime.datetime(2018, 4, 6, 0, 0), datetime.datetime(2018, 4, 7, 0, 0), datetime.datetime(2018, 4, 8, 0, 0), datetime.datetime(2018, 4, 9, 0, 0), datetime.datetime(2018, 4, 10, 0, 0), datetime.datetime(2018, 4, 11, 0, 0), datetime.datetime(2018, 4, 12, 0, 0), datetime.datetime(2018, 4, 13, 0, 0), datetime.datetime(2018, 4, 14, 0, 0), datetime.datetime(2018, 4, 15, 0, 0), datetime.datetime(2018, 4, 16, 0, 0), datetime.datetime(2018, 4, 17, 0, 0), datetime.datetime(2018, 4, 18, 0, 0), datetime.datetime(2018, 4, 19, 0, 0), datetime.datetime(2018, 4, 20, 0, 0), datetime.datetime(2018, 4, 21, 0, 0), datetime.datetime(2018, 4, 22, 0, 0), datetime.datetime(2018, 4, 23, 0, 0), datetime.datetime(2018, 4, 24, 0, 0), datetime.datetime(2018, 4, 25, 0, 0), datetime.datetime(2018, 4, 26, 0, 0), datetime.datetime(2018, 4, 27, 0, 0), datetime.datetime(2018, 4, 28, 0, 0), datetime.datetime(2018, 4, 29, 0, 0), datetime.datetime(2018, 4, 30, 0, 0), datetime.datetime(2018, 5, 1, 0, 0), datetime.datetime(2018, 5, 2, 0, 0), datetime.datetime(2018, 8, 18, 0, 0), datetime.datetime(2018, 8, 19, 0, 0), datetime.datetime(2018, 10, 12, 0, 0), datetime.datetime(2018, 10, 13, 0, 0), datetime.datetime(2018, 10, 14, 0, 0), datetime.datetime(2018, 10, 15, 0, 0), datetime.datetime(2018, 10, 16, 0, 0), datetime.datetime(2018, 10, 23, 0, 0), datetime.datetime(2019, 3, 13, 0, 0), datetime.datetime(2019, 3, 31, 0, 0), datetime.datetime(2019, 4, 13, 0, 0), datetime.datetime(2019, 4, 14, 0, 0), datetime.datetime(2019, 5, 1, 0, 0), datetime.datetime(2019, 5, 2, 0, 0), datetime.datetime(2019, 5, 4, 0, 0), datetime.datetime(2019, 5, 6, 0, 0), datetime.datetime(2019, 5, 25, 0, 0), datetime.datetime(2019, 5, 26, 0, 0), datetime.datetime(2019, 6, 16, 0, 0), datetime.datetime(2019, 10, 2, 0, 0), datetime.datetime(2019, 10, 3, 0, 0), datetime.datetime(2020, 2, 25, 0, 0), datetime.datetime(2020, 7, 26, 0, 0), datetime.datetime(2021, 1, 28, 0, 0)]\n"
     ]
    }
   ],
   "source": [
    "day_not_found_line = 'Day not found: '\n",
    "days_not_found = []\n",
    "for line in lines:\n",
    "    if day_not_found_line in line:\n",
    "        date = line.split()[3].replace('.', '')\n",
    "        date = datetime.strptime(date, '%Y-%m-%d')\n",
    "        days_not_found.append(date)\n",
    "\n",
    "print(f\"{len(days_not_found)} days not found: \\n{days_not_found}\")"
   ]
  },
  {
   "cell_type": "code",
   "execution_count": 22,
   "metadata": {},
   "outputs": [
    {
     "name": "stdout",
     "output_type": "stream",
     "text": [
      "2014-05: 1 days\n",
      "2014-06: 1 days\n",
      "2014-07: 1 days\n",
      "2014-08: 5 days\n",
      "2014-09: 1 days\n",
      "2014-10: 2 days\n",
      "2014-11: 6 days\n",
      "2014-12: 1 days\n",
      "2015-01: 1 days\n",
      "2015-02: 1 days\n",
      "2015-04: 1 days\n",
      "2015-06: 3 days\n",
      "2015-07: 2 days\n",
      "2015-12: 5 days\n",
      "2016-01: 3 days\n",
      "2016-03: 1 days\n",
      "2016-04: 3 days\n",
      "2016-05: 18 days\n",
      "2016-06: 1 days\n",
      "2016-11: 2 days\n",
      "2016-12: 3 days\n",
      "2017-01: 1 days\n",
      "2017-03: 4 days\n",
      "2017-04: 4 days\n",
      "2017-05: 1 days\n",
      "2017-08: 1 days\n",
      "2017-09: 4 days\n",
      "2017-10: 5 days\n",
      "2017-11: 1 days\n",
      "2018-04: 26 days\n",
      "2018-05: 2 days\n",
      "2018-08: 2 days\n",
      "2018-10: 6 days\n",
      "2019-03: 2 days\n",
      "2019-04: 2 days\n",
      "2019-05: 6 days\n",
      "2019-06: 1 days\n",
      "2019-10: 2 days\n",
      "2020-02: 1 days\n",
      "2020-07: 1 days\n",
      "2021-01: 1 days\n"
     ]
    }
   ],
   "source": [
    "months = {}\n",
    "\n",
    "for date in days_not_found:\n",
    "    # Group dates by month\n",
    "    month = date.strftime('%Y-%m')\n",
    "\n",
    "    if month not in months.keys():\n",
    "        months[month] = 0\n",
    "\n",
    "    months[month] += 1\n",
    "\n",
    "for month, days in months.items():\n",
    "    if days > 0:\n",
    "        print(f\"{month}: {days} days\")"
   ]
  }
 ],
 "metadata": {
  "kernelspec": {
   "display_name": "djensemble",
   "language": "python",
   "name": "python3"
  },
  "language_info": {
   "codemirror_mode": {
    "name": "ipython",
    "version": 3
   },
   "file_extension": ".py",
   "mimetype": "text/x-python",
   "name": "python",
   "nbconvert_exporter": "python",
   "pygments_lexer": "ipython3",
   "version": "3.9.19"
  }
 },
 "nbformat": 4,
 "nbformat_minor": 2
}
