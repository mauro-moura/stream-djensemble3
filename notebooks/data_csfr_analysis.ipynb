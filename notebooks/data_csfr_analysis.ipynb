{
 "cells": [
  {
   "cell_type": "code",
   "execution_count": 1,
   "metadata": {},
   "outputs": [],
   "source": [
    "import os\n",
    "\n",
    "import numpy as np\n",
    "import pandas as pd\n",
    "import netCDF4 as nc"
   ]
  },
  {
   "cell_type": "code",
   "execution_count": 2,
   "metadata": {},
   "outputs": [],
   "source": [
    "base_path = '../input/data/'\n",
    "input_file = 'CFSR-2015.nc'\n",
    "data = nc.Dataset(os.path.join(base_path, input_file))"
   ]
  },
  {
   "cell_type": "code",
   "execution_count": 9,
   "metadata": {},
   "outputs": [],
   "source": [
    "data_values = np.array(data['TMP_L100'])\n",
    "\n",
    "time = np.array(data['forecast_hour'])\n",
    "lat =  np.array(data['lat'])\n",
    "lon = np.array(data['lon'])"
   ]
  },
  {
   "cell_type": "code",
   "execution_count": 4,
   "metadata": {},
   "outputs": [
    {
     "data": {
      "text/html": [
       "<div>\n",
       "<style scoped>\n",
       "    .dataframe tbody tr th:only-of-type {\n",
       "        vertical-align: middle;\n",
       "    }\n",
       "\n",
       "    .dataframe tbody tr th {\n",
       "        vertical-align: top;\n",
       "    }\n",
       "\n",
       "    .dataframe thead th {\n",
       "        text-align: right;\n",
       "    }\n",
       "</style>\n",
       "<table border=\"1\" class=\"dataframe\">\n",
       "  <thead>\n",
       "    <tr style=\"text-align: right;\">\n",
       "      <th></th>\n",
       "      <th>time</th>\n",
       "      <th>lat</th>\n",
       "      <th>lon</th>\n",
       "      <th>data_values</th>\n",
       "    </tr>\n",
       "  </thead>\n",
       "  <tbody>\n",
       "    <tr>\n",
       "      <th>0</th>\n",
       "      <td>0.0</td>\n",
       "      <td>10.0</td>\n",
       "      <td>278.0</td>\n",
       "      <td>298.200012</td>\n",
       "    </tr>\n",
       "    <tr>\n",
       "      <th>1</th>\n",
       "      <td>0.0</td>\n",
       "      <td>10.0</td>\n",
       "      <td>278.5</td>\n",
       "      <td>299.500000</td>\n",
       "    </tr>\n",
       "    <tr>\n",
       "      <th>2</th>\n",
       "      <td>0.0</td>\n",
       "      <td>10.0</td>\n",
       "      <td>279.0</td>\n",
       "      <td>300.600006</td>\n",
       "    </tr>\n",
       "    <tr>\n",
       "      <th>3</th>\n",
       "      <td>0.0</td>\n",
       "      <td>10.0</td>\n",
       "      <td>279.5</td>\n",
       "      <td>301.100006</td>\n",
       "    </tr>\n",
       "    <tr>\n",
       "      <th>4</th>\n",
       "      <td>0.0</td>\n",
       "      <td>10.0</td>\n",
       "      <td>280.0</td>\n",
       "      <td>301.399994</td>\n",
       "    </tr>\n",
       "    <tr>\n",
       "      <th>...</th>\n",
       "      <td>...</td>\n",
       "      <td>...</td>\n",
       "      <td>...</td>\n",
       "      <td>...</td>\n",
       "    </tr>\n",
       "    <tr>\n",
       "      <th>31496575</th>\n",
       "      <td>8754.0</td>\n",
       "      <td>-60.0</td>\n",
       "      <td>352.0</td>\n",
       "      <td>274.000000</td>\n",
       "    </tr>\n",
       "    <tr>\n",
       "      <th>31496576</th>\n",
       "      <td>8754.0</td>\n",
       "      <td>-60.0</td>\n",
       "      <td>352.5</td>\n",
       "      <td>273.899994</td>\n",
       "    </tr>\n",
       "    <tr>\n",
       "      <th>31496577</th>\n",
       "      <td>8754.0</td>\n",
       "      <td>-60.0</td>\n",
       "      <td>353.0</td>\n",
       "      <td>273.899994</td>\n",
       "    </tr>\n",
       "    <tr>\n",
       "      <th>31496578</th>\n",
       "      <td>8754.0</td>\n",
       "      <td>-60.0</td>\n",
       "      <td>353.5</td>\n",
       "      <td>273.799988</td>\n",
       "    </tr>\n",
       "    <tr>\n",
       "      <th>31496579</th>\n",
       "      <td>8754.0</td>\n",
       "      <td>-60.0</td>\n",
       "      <td>354.0</td>\n",
       "      <td>273.799988</td>\n",
       "    </tr>\n",
       "  </tbody>\n",
       "</table>\n",
       "<p>31496580 rows × 4 columns</p>\n",
       "</div>"
      ],
      "text/plain": [
       "            time   lat    lon  data_values\n",
       "0            0.0  10.0  278.0   298.200012\n",
       "1            0.0  10.0  278.5   299.500000\n",
       "2            0.0  10.0  279.0   300.600006\n",
       "3            0.0  10.0  279.5   301.100006\n",
       "4            0.0  10.0  280.0   301.399994\n",
       "...          ...   ...    ...          ...\n",
       "31496575  8754.0 -60.0  352.0   274.000000\n",
       "31496576  8754.0 -60.0  352.5   273.899994\n",
       "31496577  8754.0 -60.0  353.0   273.899994\n",
       "31496578  8754.0 -60.0  353.5   273.799988\n",
       "31496579  8754.0 -60.0  354.0   273.799988\n",
       "\n",
       "[31496580 rows x 4 columns]"
      ]
     },
     "execution_count": 4,
     "metadata": {},
     "output_type": "execute_result"
    }
   ],
   "source": [
    "\n",
    "def flatten_lat_long_grid(data_values, time, lat, lon):\n",
    "    t_max, j_max, i_max = data_values.shape\n",
    "\n",
    "    d = {\n",
    "        'time': [],\n",
    "        'lat': [],\n",
    "        'lon': [],\n",
    "        'data_values': []\n",
    "    }\n",
    "\n",
    "    for t in range(0, t_max):\n",
    "        for j in range(0, j_max):\n",
    "            for i in range(0, i_max):\n",
    "                row = [time[t], lat[j], lon[i], data_values[t, j, i]]\n",
    "                d['time'].append(row[0])\n",
    "                d['lat'].append(row[1])\n",
    "                d['lon'].append(row[2])\n",
    "                d['data_values'].append(row[3])\n",
    "\n",
    "    df = pd.DataFrame(d)\n",
    "\n",
    "    out_name = os.path.join(base_path, f'data_{input_file[:-3]}.csv')\n",
    "\n",
    "    df.to_csv(out_name, index=False)\n",
    "\n",
    "    return df\n",
    "\n",
    "flatten_lat_long_grid(data_values, time, lat, lon)"
   ]
  },
  {
   "cell_type": "code",
   "execution_count": 10,
   "metadata": {},
   "outputs": [
    {
     "data": {
      "text/plain": [
       "0"
      ]
     },
     "execution_count": 10,
     "metadata": {},
     "output_type": "execute_result"
    }
   ],
   "source": [
    "time[0]"
   ]
  },
  {
   "cell_type": "code",
   "execution_count": 5,
   "metadata": {},
   "outputs": [
    {
     "data": {
      "text/plain": [
       "dict_keys(['lon', 'lat', 'time', 'forecast_hour', 'TMP_L100'])"
      ]
     },
     "execution_count": 5,
     "metadata": {},
     "output_type": "execute_result"
    }
   ],
   "source": [
    "data.variables.keys()"
   ]
  },
  {
   "cell_type": "code",
   "execution_count": 6,
   "metadata": {},
   "outputs": [
    {
     "name": "stdout",
     "output_type": "stream",
     "text": [
      "<class 'netCDF4._netCDF4.Variable'>\n",
      "float32 lat(lat)\n",
      "    standard_name: latitude\n",
      "    long_name: north latitude\n",
      "    units: degrees_north\n",
      "    axis: Y\n",
      "unlimited dimensions: \n",
      "current shape = (141,)\n",
      "filling on, default _FillValue of 9.969209968386869e+36 used\n",
      "<class 'netCDF4._netCDF4.Variable'>\n",
      "float32 lon(lon)\n",
      "    standard_name: longitude\n",
      "    long_name: east longitude\n",
      "    units: degrees_east\n",
      "    axis: X\n",
      "unlimited dimensions: \n",
      "current shape = (153,)\n",
      "filling on, default _FillValue of 9.969209968386869e+36 used\n",
      "<class 'netCDF4._netCDF4.Variable'>\n",
      "float64 time(time)\n",
      "    standard_name: time\n",
      "    long_name: time\n",
      "    units: hours since 2015-1-1 00:00:00\n",
      "    calendar: standard\n",
      "    axis: T\n",
      "unlimited dimensions: time\n",
      "current shape = (1460,)\n",
      "filling on, default _FillValue of 9.969209968386869e+36 used\n",
      "<class 'netCDF4._netCDF4.Variable'>\n",
      "float32 TMP_L100(time, lat, lon)\n",
      "    standard_name: air_temperature\n",
      "    units: K\n",
      "    _FillValue: 3.4e+38\n",
      "    missing_value: 3.4e+38\n",
      "    product_description: Analysis\n",
      "    level: Isobaric surface - value: 1000 mbar\n",
      "unlimited dimensions: time\n",
      "current shape = (1460, 141, 153)\n",
      "filling on\n",
      "<class 'netCDF4._netCDF4.Variable'>\n",
      "int32 forecast_hour(time)\n",
      "    long_name: forecast hour\n",
      "    units: hours\n",
      "unlimited dimensions: time\n",
      "current shape = (1460,)\n",
      "filling on, default _FillValue of -2147483647 used\n"
     ]
    }
   ],
   "source": [
    "print(data.variables['lat'])\n",
    "print(data.variables['lon'])\n",
    "print(data.variables['time'])\n",
    "print(data.variables['TMP_L100'])\n",
    "print(data.variables['forecast_hour'])"
   ]
  },
  {
   "cell_type": "code",
   "execution_count": null,
   "metadata": {},
   "outputs": [],
   "source": []
  }
 ],
 "metadata": {
  "kernelspec": {
   "display_name": "djensemble",
   "language": "python",
   "name": "python3"
  },
  "language_info": {
   "codemirror_mode": {
    "name": "ipython",
    "version": 3
   },
   "file_extension": ".py",
   "mimetype": "text/x-python",
   "name": "python",
   "nbconvert_exporter": "python",
   "pygments_lexer": "ipython3",
   "version": "undefined.undefined.undefined"
  }
 },
 "nbformat": 4,
 "nbformat_minor": 2
}
